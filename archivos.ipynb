{
 "cells": [
  {
   "cell_type": "markdown",
   "metadata": {},
   "source": [
    "### Archivos"
   ]
  },
  {
   "cell_type": "code",
   "execution_count": 1,
   "metadata": {},
   "outputs": [
    {
     "name": "stdout",
     "output_type": "stream",
     "text": [
      "\n",
      "But soft what light through yonder window breaks\n",
      "It is the east and Juliet is the sun\n",
      "Arise fair sun and kill the envious moon\n",
      "Who is already sick and pale with grief\n",
      "\n"
     ]
    }
   ],
   "source": [
    "s = '''\n",
    "But soft what light through yonder window breaks\n",
    "It is the east and Juliet is the sun\n",
    "Arise fair sun and kill the envious moon\n",
    "Who is already sick and pale with grief\n",
    "'''\n",
    "print(s)"
   ]
  },
  {
   "cell_type": "markdown",
   "metadata": {},
   "source": [
    "Método clásico usando open"
   ]
  },
  {
   "cell_type": "code",
   "execution_count": 3,
   "metadata": {},
   "outputs": [
    {
     "name": "stdout",
     "output_type": "stream",
     "text": [
      "<_io.TextIOWrapper name='romeo.txt' mode='r' encoding='cp1252'>\n",
      "        But soft what light through yonder window breaks\n",
      "It is the east and Juliet is the sun\n",
      "        Arise fair sun and kill the envious moon\n",
      "Who is already sick and pale with grief\n",
      "\n"
     ]
    }
   ],
   "source": [
    "file = open('romeo.txt')\n",
    "print(file)\n",
    "print(file.read())"
   ]
  },
  {
   "cell_type": "markdown",
   "metadata": {},
   "source": [
    "Método para leer todas la filas de una archivo"
   ]
  },
  {
   "cell_type": "code",
   "execution_count": 4,
   "metadata": {},
   "outputs": [
    {
     "name": "stdout",
     "output_type": "stream",
     "text": [
      "Linea 1: BUTSOFTWHATLIGHTTHROUGHYONDERWINDOWBREAKS\n",
      "Linea 2: ITISTHEEASTANDJULIETISTHESUN\n",
      "Linea 3: ARISEFAIRSUNANDKILLTHEENVIOUSMOON\n",
      "Linea 4: WHOISALREADYSICKANDPALEWITHGRIEF\n"
     ]
    }
   ],
   "source": [
    "file = open('romeo.txt', \"r\")\n",
    "lin : int = 1\n",
    "for line in file.readlines():\n",
    "  print(\"Linea \" + str(lin) + \": \" + line.upper().lstrip().replace(\" \", \"\"), end=\"\")\n",
    "  lin += 1\n",
    "file.close()"
   ]
  },
  {
   "cell_type": "markdown",
   "metadata": {},
   "source": [
    "**Revisar cómo se usa el with open**"
   ]
  },
  {
   "cell_type": "markdown",
   "metadata": {},
   "source": [
    "A diferencia de open() donde tienes que cerrar el archivo con el método close(), la instrucción with cierra el archivo sin que tú se lo indiques.\n",
    "\n",
    "Esto se debe a que la instrucción with llama a 2 métodos integrados detrás de escena: __enter()__ y __exit()__.\n",
    "\n",
    "El método __exit()__ cierra el archivo cuando finaliza la operación que especifique."
   ]
  },
  {
   "cell_type": "code",
   "execution_count": null,
   "metadata": {},
   "outputs": [],
   "source": [
    "with open(\"hello.txt\", \"w\") as my_file:\n",
    "    my_file.write(\"Hello world \\n\")\n",
    "    my_file.write(\"I hope you're doing well today \\n\")\n",
    "    my_file.write(\"This is a text file \\n\")\n",
    "    my_file.write(\"Have a nice time \\n\")\n",
    "\n",
    "with open(\"hello.txt\") as my_file:\n",
    "    print(my_file.read())\n",
    "\n",
    "# Output: \n",
    "# Hello world \n",
    "# I hope you're doing well today\n",
    "# This is a text file\n",
    "# Have a nice time"
   ]
  },
  {
   "cell_type": "markdown",
   "metadata": {},
   "source": [
    "EJEMPLO DE: https://www.freecodecamp.org/news/with-open-in-python-with-statement-syntax-example/"
   ]
  },
  {
   "cell_type": "markdown",
   "metadata": {},
   "source": []
  }
 ],
 "metadata": {
  "kernelspec": {
   "display_name": "Python 3",
   "language": "python",
   "name": "python3"
  },
  "language_info": {
   "codemirror_mode": {
    "name": "ipython",
    "version": 3
   },
   "file_extension": ".py",
   "mimetype": "text/x-python",
   "name": "python",
   "nbconvert_exporter": "python",
   "pygments_lexer": "ipython3",
   "version": "3.8.9"
  },
  "orig_nbformat": 4
 },
 "nbformat": 4,
 "nbformat_minor": 2
}
